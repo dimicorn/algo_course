{
 "cells": [
  {
   "cell_type": "markdown",
   "metadata": {},
   "source": [
    "# Семинар 2\n",
    "## Асимптотики"
   ]
  },
  {
   "cell_type": "markdown",
   "metadata": {},
   "source": [
    "$10^2$-$10^3$ ~ $O(n^2)$\n",
    "\n",
    "$10^5$-$10^6$ ~ $O(n \\log n)$\n",
    "\n",
    "$10^7$-$10^8$ ~ $O(n)$"
   ]
  },
  {
   "cell_type": "markdown",
   "metadata": {},
   "source": [
    "## Рекурсия\n",
    "### 1. Ханойские башни"
   ]
  },
  {
   "cell_type": "code",
   "execution_count": null,
   "metadata": {},
   "outputs": [],
   "source": [
    "def HanoiTowers(n, fromPeg, toPeg):\n",
    "    if n == 1:\n",
    "        print(f'Move disk 1 from peg {fromPeg} to peg {toPeg}')\n",
    "        return\n",
    "    unusedPeg = 6 - fromPeg - toPeg\n",
    "    HanoiTowers(n-1, fromPeg, unusedPeg)\n",
    "    print(f'Move disk {n} from peg {fromPeg} to peg {toPeg}')\n",
    "    HanoiTowers(n-1, unusedPeg, toPeg)\n",
    "\n",
    "HanoiTowers(3, 1, 3)"
   ]
  },
  {
   "cell_type": "markdown",
   "metadata": {},
   "source": [
    "### 2. Рекурсивная генерация всех перестановок"
   ]
  },
  {
   "cell_type": "code",
   "execution_count": null,
   "metadata": {},
   "outputs": [],
   "source": [
    "arr = list(range(3))\n",
    "\n",
    "def generate(arr: list, t: int = 0):\n",
    "    n = len(arr)\n",
    "    if t == n - 1:\n",
    "        print(*arr)\n",
    "    else:\n",
    "        for j in range(t, n):\n",
    "            arr[t], arr[j] = arr[j], arr[t]\n",
    "            t += 1\n",
    "            generate(arr, t)\n",
    "            t -= 1\n",
    "            arr[t], arr[j] = arr[j], arr[t]\n",
    "\n",
    "generate(arr)"
   ]
  },
  {
   "cell_type": "markdown",
   "metadata": {},
   "source": [
    "### 3. Рекурсивная генерация всех чисел длины M"
   ]
  },
  {
   "cell_type": "code",
   "execution_count": null,
   "metadata": {},
   "outputs": [],
   "source": [
    "def generate_number(N: int, M: int, prefix=None):\n",
    "    prefix = prefix or []\n",
    "    if M == 0:\n",
    "        print(*prefix)\n",
    "        return\n",
    "    \n",
    "    for digit in range(N):\n",
    "        prefix.append(digit)\n",
    "        generate_number(N, M-1, prefix)\n",
    "        prefix.pop()\n",
    "\n",
    "generate_number(2, 3)"
   ]
  },
  {
   "cell_type": "markdown",
   "metadata": {},
   "source": [
    "## Линейные алгоритмы\n",
    "### 1. Скалярное произведение"
   ]
  },
  {
   "cell_type": "code",
   "execution_count": 45,
   "metadata": {},
   "outputs": [
    {
     "data": {
      "text/plain": [
       "14"
      ]
     },
     "execution_count": 45,
     "metadata": {},
     "output_type": "execute_result"
    }
   ],
   "source": [
    "def dot_product(vector1: list, vector2: list) -> int:\n",
    "    res = 0\n",
    "    for num1, num2 in zip(vector1, vector2):\n",
    "        res += num1 * num2\n",
    "    return res\n",
    "\n",
    "dot_product([1, 2, 3], [1, 2, 3])"
   ]
  },
  {
   "cell_type": "markdown",
   "metadata": {},
   "source": [
    "### 2. Сжатое скалярное произведение (2 указателя)"
   ]
  },
  {
   "cell_type": "code",
   "execution_count": 46,
   "metadata": {},
   "outputs": [],
   "source": [
    "def compressed_dot_product(vector1: list, vector2: list) -> int:\n",
    "    n, m = len(vector1), len(vector2)\n",
    "    first, second = 0, 0\n",
    "    res = 0\n",
    "    while first < n and second < m:\n",
    "        min_count = min(vector1[first][1], vector2[second][1])\n",
    "        res += vector1[first][0] * vector2[second][0] * min_count\n",
    "        vector1[first][1] -= min_count\n",
    "        vector2[second][1] -= min_count\n",
    "        if vector1[first][1] == 0:\n",
    "            first += 1\n",
    "        if vector2[second][1] == 0:\n",
    "            second += 1\n",
    "    return res"
   ]
  },
  {
   "cell_type": "code",
   "execution_count": 47,
   "metadata": {},
   "outputs": [
    {
     "data": {
      "text/plain": [
       "21"
      ]
     },
     "execution_count": 47,
     "metadata": {},
     "output_type": "execute_result"
    }
   ],
   "source": [
    "compressed_dot_product([[2, 2], [3, 1]], [[3, 3]])"
   ]
  },
  {
   "cell_type": "markdown",
   "metadata": {},
   "source": [
    "### 3. Решето Эрастосфена"
   ]
  },
  {
   "cell_type": "code",
   "execution_count": 61,
   "metadata": {},
   "outputs": [],
   "source": [
    "def eratosthene(n: int) -> list:\n",
    "    primes = [2]\n",
    "    for num in range(3, n+1):\n",
    "        count = 0\n",
    "        for prime in primes:\n",
    "            if num % prime == 0:\n",
    "                count += 1\n",
    "        if count == 0:\n",
    "            primes.append(num)\n",
    "    return primes"
   ]
  },
  {
   "cell_type": "code",
   "execution_count": 67,
   "metadata": {},
   "outputs": [
    {
     "data": {
      "text/plain": [
       "[2]"
      ]
     },
     "execution_count": 67,
     "metadata": {},
     "output_type": "execute_result"
    }
   ],
   "source": [
    "eratosthene(1)"
   ]
  },
  {
   "cell_type": "markdown",
   "metadata": {},
   "source": [
    "### 4. Сумма на интервале (преффиксный массив)"
   ]
  },
  {
   "cell_type": "code",
   "execution_count": 50,
   "metadata": {},
   "outputs": [],
   "source": [
    "def subarray_sum(arr: list, start: int, end: int) -> int:\n",
    "    n = len(arr)\n",
    "    preffix = [0] * (n+1)\n",
    "    for i in range(1, n+1):\n",
    "        preffix[i] = arr[i-1] + preffix[i-1]\n",
    "    return preffix[end] - preffix[start]"
   ]
  },
  {
   "cell_type": "code",
   "execution_count": 51,
   "metadata": {},
   "outputs": [
    {
     "data": {
      "text/plain": [
       "3"
      ]
     },
     "execution_count": 51,
     "metadata": {},
     "output_type": "execute_result"
    }
   ],
   "source": [
    "arr = list(range(5))\n",
    "subarray_sum(arr, 1, 3)"
   ]
  },
  {
   "cell_type": "markdown",
   "metadata": {},
   "source": [
    "### 5. Произведение всех чисел кроме выбранного\n"
   ]
  },
  {
   "cell_type": "code",
   "execution_count": 70,
   "metadata": {},
   "outputs": [],
   "source": [
    "def multiply_except_one(arr: list, ind: int) -> int:\n",
    "    res = 1\n",
    "    count_zeroes = 0\n",
    "    for num in arr:\n",
    "        if num == 0:\n",
    "            count_zeroes += 1\n",
    "        else:\n",
    "            res *= num\n",
    "    \n",
    "    if count_zeroes > 1:\n",
    "        return 0\n",
    "    elif count_zeroes == 1:\n",
    "        if arr[ind] == 0:\n",
    "            return res\n",
    "        else:\n",
    "            return 0\n",
    "    else:\n",
    "        return res // arr[ind]"
   ]
  },
  {
   "cell_type": "code",
   "execution_count": 73,
   "metadata": {},
   "outputs": [
    {
     "data": {
      "text/plain": [
       "0"
      ]
     },
     "execution_count": 73,
     "metadata": {},
     "output_type": "execute_result"
    }
   ],
   "source": [
    "multiply_except_one([1, 2, 3, 4, 0, 0], 3)"
   ]
  },
  {
   "cell_type": "markdown",
   "metadata": {},
   "source": [
    "### 6. Двигаем нули\n",
    "\n",
    "[1, 0, 1, 1, 1, 0, 0, 1] -> [1, 1, 1, 1, 1, 0, 0, 0]"
   ]
  },
  {
   "cell_type": "code",
   "execution_count": 105,
   "metadata": {},
   "outputs": [],
   "source": [
    "def move_zeroes(arr: int) -> None:\n",
    "    count_zeroes, pointer = 0, 0\n",
    "    first_zero = None\n",
    "    for pointer, num in enumerate(arr):\n",
    "        if num == 0:\n",
    "            count_zeroes += 1\n",
    "            if first_zero is None:\n",
    "                first_zero = pointer\n",
    "        elif count_zeroes >= 1:\n",
    "            arr[first_zero], arr[pointer] = arr[pointer], arr[first_zero]\n",
    "            first_zero += 1"
   ]
  },
  {
   "cell_type": "code",
   "execution_count": 107,
   "metadata": {},
   "outputs": [
    {
     "data": {
      "text/plain": [
       "[1, 1, 1, 1, 1, 0, 0, 0]"
      ]
     },
     "execution_count": 107,
     "metadata": {},
     "output_type": "execute_result"
    }
   ],
   "source": [
    "arr = [1, 0, 1, 0, 1, 1, 0, 1]\n",
    "move_zeroes(arr)\n",
    "arr"
   ]
  },
  {
   "cell_type": "markdown",
   "metadata": {},
   "source": [
    "### 7. Пересечение интервалов (попарное)"
   ]
  },
  {
   "cell_type": "code",
   "execution_count": 115,
   "metadata": {},
   "outputs": [],
   "source": [
    "def interval_intersection(intervals: list) -> list:\n",
    "    intersections = []\n",
    "    for i in range(1, len(intervals)):\n",
    "        a, b = intervals[i-1][0], intervals[i-1][1]\n",
    "        c, d = intervals[i][0], intervals[i][1]\n",
    "        if b > c and a < d:\n",
    "            intersections.append([max(a, c), min(b, d)])\n",
    "    return intersections\n"
   ]
  },
  {
   "cell_type": "code",
   "execution_count": 117,
   "metadata": {},
   "outputs": [
    {
     "data": {
      "text/plain": [
       "[]"
      ]
     },
     "execution_count": 117,
     "metadata": {},
     "output_type": "execute_result"
    }
   ],
   "source": [
    "interval_intersection([[1, 3], [3, 4]])"
   ]
  }
 ],
 "metadata": {
  "kernelspec": {
   "display_name": "Python 3",
   "language": "python",
   "name": "python3"
  },
  "language_info": {
   "codemirror_mode": {
    "name": "ipython",
    "version": 3
   },
   "file_extension": ".py",
   "mimetype": "text/x-python",
   "name": "python",
   "nbconvert_exporter": "python",
   "pygments_lexer": "ipython3",
   "version": "3.9.6"
  }
 },
 "nbformat": 4,
 "nbformat_minor": 2
}
