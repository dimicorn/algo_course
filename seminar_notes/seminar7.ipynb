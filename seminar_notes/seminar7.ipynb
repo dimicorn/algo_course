{
 "cells": [
  {
   "cell_type": "markdown",
   "metadata": {},
   "source": [
    "# Семинар 7"
   ]
  },
  {
   "cell_type": "markdown",
   "metadata": {},
   "source": [
    "## 0. Разбор задачи с домашнего контеста по префиксной сумме"
   ]
  },
  {
   "cell_type": "code",
   "execution_count": 42,
   "metadata": {},
   "outputs": [
    {
     "data": {
      "text/plain": [
       "5"
      ]
     },
     "execution_count": 42,
     "metadata": {},
     "output_type": "execute_result"
    }
   ],
   "source": [
    "def solve(n: int, p: int, arr: list) -> int:\n",
    "    lights = [0] * (p+1)\n",
    "    for i in range(n):\n",
    "        x, r = arr[i]\n",
    "        left = max(0, x - r)\n",
    "        right = min(x + r + 1, p)\n",
    "        lights[left] += 1\n",
    "        lights[right] -= 1\n",
    "\n",
    "    for i in range(1, p + 1):\n",
    "        lights[i] += lights[i-1]\n",
    "\n",
    "    ans = 0\n",
    "    i = 0\n",
    "    while i <= p:\n",
    "        count = 0\n",
    "        while i <= p and lights[i] != 1:\n",
    "            count += 1\n",
    "            i += 1\n",
    "        ans = max(ans, count)\n",
    "\n",
    "    return ans\n",
    "\n",
    "n, p = 4, 4\n",
    "arr = [(1, 2), (3, 0), (0, 2), (3, 0)]\n",
    "solve(n, p, arr)"
   ]
  },
  {
   "cell_type": "markdown",
   "metadata": {},
   "source": [
    "## 1. Обсуждение разминочного контеста по бинарному поиску"
   ]
  },
  {
   "cell_type": "markdown",
   "metadata": {},
   "source": [
    "### 1. Правый бинарный поиск"
   ]
  },
  {
   "cell_type": "code",
   "execution_count": 22,
   "metadata": {},
   "outputs": [
    {
     "data": {
      "text/plain": [
       "7"
      ]
     },
     "execution_count": 22,
     "metadata": {},
     "output_type": "execute_result"
    }
   ],
   "source": [
    "def upper_bound(arr: list, n: int, x: int) -> int:\n",
    "    l, r = 0, n\n",
    "    while l < r:\n",
    "        mid = (r + l) // 2\n",
    "        if arr[mid] <= x:\n",
    "            l = mid + 1\n",
    "        else:\n",
    "            r = mid\n",
    "    return r\n",
    "\n",
    "arr = [1, 2, 2, 3, 4, 5, 5, 6]\n",
    "x = 5\n",
    "upper_bound(arr, len(arr), x)\n"
   ]
  },
  {
   "cell_type": "markdown",
   "metadata": {},
   "source": [
    "### 2. Приближенный бинарный поиск"
   ]
  },
  {
   "cell_type": "code",
   "execution_count": 27,
   "metadata": {},
   "outputs": [
    {
     "data": {
      "text/plain": [
       "[1, 3, 7, 1, 5]"
      ]
     },
     "execution_count": 27,
     "metadata": {},
     "output_type": "execute_result"
    }
   ],
   "source": [
    "def bin_search(arr: list, n: int, x: int) -> int:\n",
    "    l, r = 0, n - 1\n",
    "    while l < r:\n",
    "        mid = (r + l) // 2\n",
    "        if arr[mid] == x:\n",
    "            return mid\n",
    "        elif arr[mid] < x:\n",
    "            l = mid + 1\n",
    "        else:\n",
    "            r = mid - 1\n",
    "    return -1\n",
    "\n",
    "def lower_bound(arr: list, n: int, x: int) -> int:\n",
    "    l, r = 0, n\n",
    "    while l < r:\n",
    "        mid = (r + l) // 2\n",
    "        if x <= arr[mid]:\n",
    "            r = mid\n",
    "        else:\n",
    "            l = mid + 1\n",
    "    return l\n",
    "\n",
    "def solve(arr: list, n: int, brr: list, m: int) -> list:\n",
    "    arr = sorted(arr)\n",
    "    res = []\n",
    "    for x in brr:\n",
    "        if x < arr[0]:\n",
    "            res.append(arr[0])\n",
    "        elif x > arr[n-1]:\n",
    "            res.append(arr[n-1])\n",
    "        else:\n",
    "            bs = bin_search(arr, n, x)\n",
    "            if bs != -1:\n",
    "                res.append(x)\n",
    "            else:\n",
    "                lb = lower_bound(arr, n, x)\n",
    "                if lb - 1 >= 0 and abs(arr[lb-1] - x) <= abs(arr[lb] - x):\n",
    "                    res.append(arr[lb-1])\n",
    "                else:\n",
    "                    res.append(arr[lb])\n",
    "    return res\n",
    "\n",
    "n, m = 5, 5\n",
    "arr = [1, 3, 5, 7, 9]\n",
    "brr = [2, 4, 8, 1, 6]\n",
    "solve(arr, n, brr, m)"
   ]
  },
  {
   "cell_type": "markdown",
   "metadata": {},
   "source": [
    "### 3. Монеты"
   ]
  },
  {
   "cell_type": "code",
   "execution_count": 32,
   "metadata": {},
   "outputs": [
    {
     "data": {
      "text/plain": [
       "3"
      ]
     },
     "execution_count": 32,
     "metadata": {},
     "output_type": "execute_result"
    }
   ],
   "source": [
    "def coins(n: int, s: int) -> int:\n",
    "    count = 0\n",
    "    while n > 0:\n",
    "        if n > s:\n",
    "            n = s\n",
    "        else:\n",
    "            a = s // n\n",
    "            s -= n * a\n",
    "            count += a\n",
    "            n -= 1\n",
    "    return count\n",
    "\n",
    "coins(6, 16)"
   ]
  },
  {
   "cell_type": "markdown",
   "metadata": {},
   "source": [
    "### 4. Колесо обозрения"
   ]
  },
  {
   "cell_type": "code",
   "execution_count": 38,
   "metadata": {},
   "outputs": [
    {
     "data": {
      "text/plain": [
       "3"
      ]
     },
     "execution_count": 38,
     "metadata": {},
     "output_type": "execute_result"
    }
   ],
   "source": [
    "def ferris_wheel(arr: int, n: int, x: int) -> int:\n",
    "    arr = sorted(arr)\n",
    "    l, r = 0, n-1\n",
    "    count =  0\n",
    "    while l <= r:\n",
    "        if l == r:\n",
    "            pass\n",
    "        elif arr[l] + arr[r] <= x:\n",
    "            l += 1\n",
    "        count += 1\n",
    "        r -= 1\n",
    "    return count\n",
    "\n",
    "arr = [7, 2, 3, 9]\n",
    "ferris_wheel(arr, len(arr), 10)"
   ]
  },
  {
   "cell_type": "markdown",
   "metadata": {},
   "source": [
    "## 2. Бинарный поиск по ответу"
   ]
  },
  {
   "cell_type": "markdown",
   "metadata": {},
   "source": [
    "Задача: Петя активный малый и участвует во всех олимпиадах по математике и физике. Накопил\n",
    "кучу дипломов, которые лежали в столе и он не знал что с ними делать. И вот он решил, чтобы они перестали пылиться в столе, лучше чтобы они пылились на стене. Для этого ему хотелось их разместить на квадратной доске. Итак, есть 9 прямоугольных дипломов (3Х4), которые надо разместить на квадратной поверхности. Необходимо найти минимальную сторону квадрата для размещения всех дипломов"
   ]
  },
  {
   "cell_type": "code",
   "execution_count": 41,
   "metadata": {},
   "outputs": [
    {
     "data": {
      "text/plain": [
       "12"
      ]
     },
     "execution_count": 41,
     "metadata": {},
     "output_type": "execute_result"
    }
   ],
   "source": [
    "def bin_search_ans(w: int, h: int, n: int) -> int:\n",
    "    l = max(w, h)\n",
    "    r = n * l\n",
    "    while l + 1 < r:\n",
    "        mid = (r + l) // 2\n",
    "        res = (mid // w) * (mid // h)\n",
    "        if res < n:\n",
    "            l = mid\n",
    "        else:\n",
    "            r = mid\n",
    "    return r\n",
    "\n",
    "bin_search_ans(3, 4, 9)"
   ]
  },
  {
   "cell_type": "markdown",
   "metadata": {},
   "source": [
    "## 3. Динамическое программирование"
   ]
  },
  {
   "cell_type": "markdown",
   "metadata": {},
   "source": [
    "### 1. Количество траекторий Кузнечика на прямой\n",
    "Ходим +1 и +2"
   ]
  },
  {
   "cell_type": "code",
   "execution_count": 55,
   "metadata": {},
   "outputs": [
    {
     "data": {
      "text/plain": [
       "89"
      ]
     },
     "execution_count": 55,
     "metadata": {},
     "output_type": "execute_result"
    }
   ],
   "source": [
    "def hopper(n: int) -> int:\n",
    "    a0 = 0\n",
    "    a1 = 1\n",
    "    if n == 0:\n",
    "        return 0\n",
    "    if n == 1:\n",
    "        return 1\n",
    "    else:\n",
    "        res = 0\n",
    "        for _ in range(n):\n",
    "            res = a0 + a1\n",
    "            a0, a1 = a1, res\n",
    "        return res\n",
    "\n",
    "hopper(10)"
   ]
  },
  {
   "cell_type": "markdown",
   "metadata": {},
   "source": [
    "### 2.1. Траектории наименьшей стоимости для Кузнечика"
   ]
  },
  {
   "cell_type": "code",
   "execution_count": 56,
   "metadata": {},
   "outputs": [
    {
     "data": {
      "text/plain": [
       "6"
      ]
     },
     "execution_count": 56,
     "metadata": {},
     "output_type": "execute_result"
    }
   ],
   "source": [
    "def hopper_min(values: list) -> int:\n",
    "    n = len(values)\n",
    "    res = 0\n",
    "    a0 = values[0]\n",
    "    a1 = values[1]\n",
    "    for i in range(2, n):\n",
    "        res = values[i] + min(a0, a1)\n",
    "        a0, a1 = a1, res\n",
    "    return res\n",
    "\n",
    "values = [3, 4, 2, 5, 1]\n",
    "hopper_min(values)"
   ]
  },
  {
   "cell_type": "markdown",
   "metadata": {},
   "source": [
    "### 2.2 Восстановление траектории Кузнечика"
   ]
  },
  {
   "cell_type": "code",
   "execution_count": 67,
   "metadata": {},
   "outputs": [
    {
     "data": {
      "text/plain": [
       "[0, 1, 3, 5]"
      ]
     },
     "execution_count": 67,
     "metadata": {},
     "output_type": "execute_result"
    }
   ],
   "source": [
    "def hopper_min2(values: list) -> list:\n",
    "    n = len(values)\n",
    "    res = [0] * n\n",
    "    res[0] = values[0]\n",
    "    res[1] = values[1]\n",
    "    for i in range(2, n):\n",
    "        res[i] = values[i] + min(res[i-1], res[i-2])\n",
    "    return res\n",
    "\n",
    "def min_trajectory(lst: list) -> list:\n",
    "    n = len(lst)\n",
    "    ans = [n-1]\n",
    "    i = n - 1\n",
    "    while i > 0:\n",
    "        ind = i-1 if lst[i-1] == min(lst[i-1], lst[i-2]) else i-2\n",
    "        ans.append(ind)\n",
    "        i -= 1 if ind == i else 2\n",
    "    return ans[::-1]\n",
    "\n",
    "values = [0, 3, 4, 2, 5, 1]\n",
    "res = hopper_min2(values)\n",
    "min_trajectory(res)"
   ]
  },
  {
   "cell_type": "markdown",
   "metadata": {},
   "source": [
    "### 3.1. Рюкзак 0-1, (Жадно)"
   ]
  },
  {
   "cell_type": "code",
   "execution_count": 73,
   "metadata": {},
   "outputs": [
    {
     "name": "stdout",
     "output_type": "stream",
     "text": [
      "[(7, 1), (3, 3), (1, 2), (2, 5), (2, 6)]\n"
     ]
    },
    {
     "data": {
      "text/plain": [
       "11"
      ]
     },
     "execution_count": 73,
     "metadata": {},
     "output_type": "execute_result"
    }
   ],
   "source": [
    "def knapsack(arr: list, x: int) -> int:\n",
    "    arr = sorted(arr, key=lambda y: y[0] / y[1], reverse=True)\n",
    "    value = 0\n",
    "    print(arr)\n",
    "    for i in arr:\n",
    "        if i[1] <= x:\n",
    "            x -= i[1]\n",
    "            value += i[0]\n",
    "    return value\n",
    "\n",
    "arr = [(7, 1), (3, 3), (1, 2), (2, 6), (2, 5)] # <-- не правильный ответ\n",
    "x = 10\n",
    "knapsack(arr, x)"
   ]
  },
  {
   "cell_type": "markdown",
   "metadata": {},
   "source": [
    "### 3.2. Рюкзак 0-1 (Рекурсия)"
   ]
  },
  {
   "cell_type": "code",
   "execution_count": 1,
   "metadata": {},
   "outputs": [
    {
     "data": {
      "text/plain": [
       "12"
      ]
     },
     "execution_count": 1,
     "metadata": {},
     "output_type": "execute_result"
    }
   ],
   "source": [
    "def knapsack_recursive(W: int, arr: list, n: int):\n",
    "    if n == 0 or W == 0:\n",
    "        return 0\n",
    "    \n",
    "    if arr[n-1][1] > W:\n",
    "        return knapsack_recursive(W, arr, n-1)\n",
    "    else:\n",
    "        return max(\n",
    "            arr[n-1][0] + knapsack_recursive(W - arr[n-1][1], arr, n-1),\n",
    "            knapsack_recursive(W, arr, n-1)\n",
    "        )\n",
    "\n",
    "arr = [(7, 1), (3, 3), (1, 2), (2, 6), (2, 5)] # выдает правильный ответ\n",
    "x = 10\n",
    "knapsack_recursive(x, arr, len(arr))"
   ]
  }
 ],
 "metadata": {
  "kernelspec": {
   "display_name": "Python 3",
   "language": "python",
   "name": "python3"
  },
  "language_info": {
   "codemirror_mode": {
    "name": "ipython",
    "version": 3
   },
   "file_extension": ".py",
   "mimetype": "text/x-python",
   "name": "python",
   "nbconvert_exporter": "python",
   "pygments_lexer": "ipython3",
   "version": "3.9.6"
  }
 },
 "nbformat": 4,
 "nbformat_minor": 2
}
