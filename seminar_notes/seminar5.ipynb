{
 "cells": [
  {
   "cell_type": "markdown",
   "metadata": {},
   "source": [
    "# Семинар 5"
   ]
  },
  {
   "cell_type": "markdown",
   "metadata": {},
   "source": [
    "### 0. Циклический сдвиг массива (без срезов, на месте)"
   ]
  },
  {
   "cell_type": "code",
   "execution_count": 13,
   "metadata": {},
   "outputs": [
    {
     "name": "stdout",
     "output_type": "stream",
     "text": [
      "[5, 4, 1, 2, 3]\n"
     ]
    }
   ],
   "source": [
    "# [1, 2, 3, 4, 5], k = 2 --> [3, 4, 5, 1, 2]\n",
    "def reverse(arr: list, left: int, right: int) -> None:\n",
    "    n = right - left + 1\n",
    "    for _ in range(n // 2):\n",
    "        arr[left], arr[right] = arr[right], arr[left]\n",
    "        left += 1\n",
    "        right -= 1\n",
    "\n",
    "arr = [1, 2, 3, 4, 5]\n",
    "k = 2\n",
    "reverse(arr, 0, k)\n",
    "reverse(arr, k, len(arr) - k - 1)\n",
    "reverse(arr, 0, len(arr) - 1)\n",
    "print(arr)"
   ]
  },
  {
   "cell_type": "markdown",
   "metadata": {},
   "source": [
    "## Разделяй и властвуй"
   ]
  },
  {
   "cell_type": "markdown",
   "metadata": {},
   "source": [
    "\n",
    "### 1. Бинарный поиск"
   ]
  },
  {
   "cell_type": "code",
   "execution_count": 15,
   "metadata": {},
   "outputs": [
    {
     "data": {
      "text/plain": [
       "-1"
      ]
     },
     "execution_count": 15,
     "metadata": {},
     "output_type": "execute_result"
    }
   ],
   "source": [
    "def binary_search(arr: list, x: int) -> int:\n",
    "    n = len(arr)\n",
    "    l, r = 0, n - 1\n",
    "    while l <= r:\n",
    "        mid = (r + l) // 2\n",
    "        if arr[mid] == x:\n",
    "            return mid\n",
    "        elif arr[mid] > x:\n",
    "            r = mid - 1\n",
    "        else:\n",
    "            l = mid + 1\n",
    "    return -1\n",
    "\n",
    "arr = [1, 2, 3, 4, 5]\n",
    "binary_search(arr, 8)"
   ]
  },
  {
   "cell_type": "markdown",
   "metadata": {},
   "source": [
    "### 2. Максимальная сумма подмассива"
   ]
  },
  {
   "cell_type": "code",
   "execution_count": 21,
   "metadata": {},
   "outputs": [
    {
     "data": {
      "text/plain": [
       "4"
      ]
     },
     "execution_count": 21,
     "metadata": {},
     "output_type": "execute_result"
    }
   ],
   "source": [
    "def max_subarr_sum(arr) -> int:\n",
    "    curSum = 0\n",
    "    maxSum = arr[0]\n",
    "    for i in arr:\n",
    "        if curSum < 0:\n",
    "            curSum = 0\n",
    "        curSum += i\n",
    "        maxSum = max(maxSum, curSum)\n",
    "    return maxSum\n",
    "\n",
    "arr = [-2, 1, 3, -5, -6]\n",
    "max_subarr_sum(arr)"
   ]
  },
  {
   "cell_type": "markdown",
   "metadata": {},
   "source": [
    "### 3. Алгоритм Карацубы (длинная арифметика)"
   ]
  },
  {
   "cell_type": "code",
   "execution_count": 24,
   "metadata": {},
   "outputs": [
    {
     "data": {
      "text/plain": [
       "14641"
      ]
     },
     "execution_count": 24,
     "metadata": {},
     "output_type": "execute_result"
    }
   ],
   "source": [
    "def karatsuba(x: int, y: int) -> int:\n",
    "    if x < 10 or y < 10:\n",
    "        return x * y\n",
    "    else:\n",
    "        n = max(len(str(x)), len(str(y)))\n",
    "        half = n // 2\n",
    "        a = x // (10 ** half)\n",
    "        b = x % (10 ** half)\n",
    "        c = y // (10 ** half)\n",
    "        d = y % (10 ** half)\n",
    "        ac = karatsuba(a, c)\n",
    "        bd = karatsuba(b, d)\n",
    "        ad_plus_bc = karatsuba(a + b, c + d) - ac - bd\n",
    "        return ac * (10 ** (2 * half)) + (ad_plus_bc * (10 ** half)) + bd\n",
    "\n",
    "karatsuba(121, 121)"
   ]
  },
  {
   "cell_type": "code",
   "execution_count": 46,
   "metadata": {},
   "outputs": [
    {
     "data": {
      "text/plain": [
       "1.584962500721156"
      ]
     },
     "execution_count": 46,
     "metadata": {},
     "output_type": "execute_result"
    }
   ],
   "source": [
    "import numpy as np\n",
    "\n",
    "np.log2(3)"
   ]
  },
  {
   "cell_type": "markdown",
   "metadata": {},
   "source": [
    "### 4. Алгоритм Штрассена (перемножение матриц)"
   ]
  },
  {
   "cell_type": "code",
   "execution_count": 42,
   "metadata": {},
   "outputs": [],
   "source": [
    "import numpy as np\n",
    "\n",
    "def brute_force(A: np.array, B: np.array) -> np.array:\n",
    "    n, m, p = A.shape[0], A.shape[1], B.shape[1]\n",
    "    C = np.zeros((n, p))\n",
    "    for i in range(n):\n",
    "        for j in range(p):\n",
    "            for k in range(m):\n",
    "                C[i][j] += A[i][k] * B[k][j]\n",
    "    return C\n",
    "\n",
    "def split(matrix: np.array):\n",
    "    n = len(matrix)\n",
    "    return (matrix[:n//2, :n//2], matrix[:n//2, n//2:],\n",
    "            matrix[n//2:, :n//2], matrix[n//2:, n//2:])\n",
    "\n",
    "def strassen(A, B):\n",
    "    if len(A) <= 2:\n",
    "        return brute_force(A, B)\n",
    "    a, b, c, d = split(A)\n",
    "    e, f, g, h = split(B)\n",
    "    p1 = strassen(a + d, e + h)\n",
    "    p2 = strassen(d, g - e)\n",
    "    p3 = strassen(a + b, h)\n",
    "    p4 = strassen(b - d, g + h)\n",
    "    p5 = strassen(a, f - h)\n",
    "    p6 = strassen(c + d, e)\n",
    "    p7 = strassen(a - c, e + f)\n",
    "    C11 = p1 + p2 - p3 + p4\n",
    "    C12 = p5 + p3\n",
    "    C21 = p6 + p2\n",
    "    C22 = p5 + p1 - p6 - p7\n",
    "    up = np.hstack((C11, C12))\n",
    "    down = np.hstack((C21, C22))\n",
    "    C = np.vstack((up, down))\n",
    "    return C"
   ]
  },
  {
   "cell_type": "code",
   "execution_count": 44,
   "metadata": {},
   "outputs": [
    {
     "data": {
      "text/plain": [
       "array([[0., 1., 1., 1.],\n",
       "       [2., 3., 5., 4.],\n",
       "       [1., 1., 1., 1.],\n",
       "       [2., 2., 2., 2.]])"
      ]
     },
     "execution_count": 44,
     "metadata": {},
     "output_type": "execute_result"
    }
   ],
   "source": [
    "A = np.array([[0, 1, 1, 1], [2, 3, 5, 4], [1, 1, 1, 1], [2, 2, 2, 2]])\n",
    "B = np.array([[1, 0, 0, 0], [0, 1, 0, 0], [0, 0, 1, 0], [0, 0, 0, 1]])\n",
    "strassen(A, B)"
   ]
  },
  {
   "cell_type": "code",
   "execution_count": 47,
   "metadata": {},
   "outputs": [
    {
     "data": {
      "text/plain": [
       "2.807354922057604"
      ]
     },
     "execution_count": 47,
     "metadata": {},
     "output_type": "execute_result"
    }
   ],
   "source": [
    "np.log2(7)"
   ]
  },
  {
   "cell_type": "markdown",
   "metadata": {},
   "source": [
    "## Жадные алгоритмы"
   ]
  },
  {
   "cell_type": "markdown",
   "metadata": {},
   "source": [
    "### 5. Задача о рюкзаке (жадно)"
   ]
  },
  {
   "cell_type": "code",
   "execution_count": 49,
   "metadata": {},
   "outputs": [
    {
     "data": {
      "text/plain": [
       "13.0"
      ]
     },
     "execution_count": 49,
     "metadata": {},
     "output_type": "execute_result"
    }
   ],
   "source": [
    "def knapsack_greedy(objects: list[tuple], x: int) -> int:\n",
    "    objects_s = sorted(objects, key=lambda x : x[0] / x[1], reverse=True)\n",
    "    profit = 0\n",
    "    for obj in objects_s:\n",
    "        if obj[1] <= x:\n",
    "            x -= obj[1]\n",
    "            profit += obj[0]\n",
    "        else:\n",
    "            rate = obj[0] / obj[1]\n",
    "            profit += rate * x\n",
    "            return profit\n",
    "\n",
    "arr = [(2, 2), (3, 7), (6, 6), (6, 3)]\n",
    "knapsack_greedy(arr, 10)"
   ]
  },
  {
   "cell_type": "markdown",
   "metadata": {},
   "source": [
    "### 6. Оптимальное разделение строки"
   ]
  },
  {
   "cell_type": "code",
   "execution_count": 50,
   "metadata": {},
   "outputs": [
    {
     "data": {
      "text/plain": [
       "2"
      ]
     },
     "execution_count": 50,
     "metadata": {},
     "output_type": "execute_result"
    }
   ],
   "source": [
    "def string_partition(string: str) -> int:\n",
    "    seen = set()\n",
    "    count_br = 0\n",
    "    for letter in string:\n",
    "        if letter in seen:\n",
    "            count_br += 1\n",
    "            seen = set(letter)\n",
    "        else:\n",
    "            seen.add(letter)\n",
    "    return count_br + 1\n",
    "\n",
    "string = \"abacdg\"\n",
    "string_partition(string)"
   ]
  },
  {
   "cell_type": "markdown",
   "metadata": {},
   "source": [
    "### 7. Палидром?"
   ]
  },
  {
   "cell_type": "code",
   "execution_count": 55,
   "metadata": {},
   "outputs": [
    {
     "data": {
      "text/plain": [
       "False"
      ]
     },
     "execution_count": 55,
     "metadata": {},
     "output_type": "execute_result"
    }
   ],
   "source": [
    "def valid_palindrome(string: str) -> bool:\n",
    "    l, r = 0, len(string) - 1\n",
    "    while l < r:\n",
    "        if string[l] != string[r]:\n",
    "            skipL, skipR = string[l+1:r+1], string[l:r]\n",
    "            return (skipL == skipL[::-1] or skipR == skipR[::-1])\n",
    "        l += 1\n",
    "        r -= 1\n",
    "    \n",
    "string = \"abbc\"\n",
    "valid_palindrome(string)"
   ]
  }
 ],
 "metadata": {
  "kernelspec": {
   "display_name": "Python 3",
   "language": "python",
   "name": "python3"
  },
  "language_info": {
   "codemirror_mode": {
    "name": "ipython",
    "version": 3
   },
   "file_extension": ".py",
   "mimetype": "text/x-python",
   "name": "python",
   "nbconvert_exporter": "python",
   "pygments_lexer": "ipython3",
   "version": "3.9.6"
  }
 },
 "nbformat": 4,
 "nbformat_minor": 2
}
