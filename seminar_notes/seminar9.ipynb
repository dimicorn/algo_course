{
 "cells": [
  {
   "cell_type": "markdown",
   "metadata": {},
   "source": [
    "# Семинар 9"
   ]
  },
  {
   "cell_type": "markdown",
   "metadata": {},
   "source": [
    "## Структуры данных"
   ]
  },
  {
   "cell_type": "markdown",
   "metadata": {},
   "source": [
    "### 1. Множества и словари"
   ]
  },
  {
   "cell_type": "code",
   "execution_count": null,
   "metadata": {},
   "outputs": [],
   "source": [
    "def hash_function(val: int) -> int:\n",
    "    M = 12345\n",
    "    return val % M"
   ]
  },
  {
   "cell_type": "markdown",
   "metadata": {},
   "source": [
    "### 2. Динамический массив и списки"
   ]
  },
  {
   "cell_type": "code",
   "execution_count": null,
   "metadata": {},
   "outputs": [],
   "source": [
    "# Узел односвязного списка\n",
    "class Node(object):\n",
    "    def __init__(self, data: int) -> None:\n",
    "        self.data = data\n",
    "        self.next = None"
   ]
  },
  {
   "cell_type": "markdown",
   "metadata": {},
   "source": [
    "### 3. Стэк, очередь"
   ]
  },
  {
   "cell_type": "markdown",
   "metadata": {},
   "source": [
    "LIFO == Last In First Out\n",
    "\n",
    "FIFO == First In First Out"
   ]
  },
  {
   "cell_type": "markdown",
   "metadata": {},
   "source": [
    "### 4. Асимптотики основных методов"
   ]
  },
  {
   "cell_type": "markdown",
   "metadata": {},
   "source": [
    "| Операция | Массив | Список | Стэк | Очередь | Словарь |\n",
    "| -------- | ------ | ------ | ---- | ------- | ------- |\n",
    "| Обращение к элементу | $O(1)$ | $O(n)$ | $O(n)$ | $O(n)$ | $O(1)$ |\n",
    "| Поиск элемента | $O(n)$ | $O(n)$ | $O(n)$ | $O(n)$ | $O(1)$ |\n",
    "| Удаление элемента | $O(n)$ | $O(1)$ | $O(1)$ | $O(1)$ | $O(1)$ |\n",
    "| Вставка элемента | $O(n)$ | $O(1)$ | $O(1)$ | $O(1)$ | $O(1)$ |"
   ]
  },
  {
   "cell_type": "markdown",
   "metadata": {},
   "source": [
    "## Использование структур данных в задачах"
   ]
  },
  {
   "cell_type": "markdown",
   "metadata": {},
   "source": [
    "### 1. Проверки корректности скобочной последовательности"
   ]
  },
  {
   "cell_type": "markdown",
   "metadata": {},
   "source": [
    "```python\n",
    "s = \"()\" # True\n",
    "s = \"(()\" # False\n",
    "```"
   ]
  },
  {
   "cell_type": "code",
   "execution_count": 32,
   "metadata": {},
   "outputs": [
    {
     "data": {
      "text/plain": [
       "True"
      ]
     },
     "execution_count": 32,
     "metadata": {},
     "output_type": "execute_result"
    }
   ],
   "source": [
    "from queue import LifoQueue as stack\n",
    "\n",
    "def is_valid(s: str) -> bool:\n",
    "    st = stack()\n",
    "    for ch in s:\n",
    "        if ch == '(':\n",
    "            st.put(ch)\n",
    "        else:\n",
    "            if st.empty():\n",
    "                return False\n",
    "            st.get()\n",
    "    if st.empty():\n",
    "        return True\n",
    "    return False\n",
    "\n",
    "is_valid('(())')"
   ]
  },
  {
   "cell_type": "code",
   "execution_count": 34,
   "metadata": {},
   "outputs": [
    {
     "data": {
      "text/plain": [
       "False"
      ]
     },
     "execution_count": 34,
     "metadata": {},
     "output_type": "execute_result"
    }
   ],
   "source": [
    "def is_valid2(s: str) -> bool:\n",
    "    count = 0\n",
    "    for ch in s:\n",
    "        if ch == '(':\n",
    "            count += 1\n",
    "        else:\n",
    "            count -= 1\n",
    "        if count < 0:\n",
    "            return False\n",
    "    if count == 0:\n",
    "        return True\n",
    "    return False\n",
    "\n",
    "is_valid2('(()')"
   ]
  },
  {
   "cell_type": "markdown",
   "metadata": {},
   "source": [
    "### 2. Обратная Польская нотация"
   ]
  },
  {
   "cell_type": "markdown",
   "metadata": {},
   "source": [
    "```python\n",
    "tokens = [\"2\",\"1\",\"+\",\"3\",\"*\"] # ((2 + 1) * 3) = 9\n",
    "tokens = [\"4\",\"13\",\"5\",\"/\",\"+\"] # (4 + (13 / 5)) = 6\n",
    "```"
   ]
  },
  {
   "cell_type": "code",
   "execution_count": 47,
   "metadata": {},
   "outputs": [
    {
     "data": {
      "text/plain": [
       "3"
      ]
     },
     "execution_count": 47,
     "metadata": {},
     "output_type": "execute_result"
    }
   ],
   "source": [
    "def RPN(tokens: list) -> int:\n",
    "    st = stack()\n",
    "    for ch in tokens:\n",
    "        if ch in ['+', '-', '*', '/']:\n",
    "            b = int(st.get())\n",
    "            a = int(st.get())\n",
    "            res = eval(f'a {ch} b') # так делать очень плохо, безопаснее прописать if-else для каждой операции\n",
    "            st.put(res)\n",
    "        else:\n",
    "            st.put(ch)\n",
    "    return st.get()\n",
    "\n",
    "tokens = ['2', '1', '+']\n",
    "RPN(tokens)"
   ]
  },
  {
   "cell_type": "markdown",
   "metadata": {},
   "source": [
    "### 3. Преобразование математического выражения в обратную польскую нотацию"
   ]
  },
  {
   "cell_type": "code",
   "execution_count": 2,
   "metadata": {},
   "outputs": [
    {
     "data": {
      "text/plain": [
       "['2', '3', '+', '4', '*', '5', '-']"
      ]
     },
     "execution_count": 2,
     "metadata": {},
     "output_type": "execute_result"
    }
   ],
   "source": [
    "def toRPN(tokens: list) -> list:\n",
    "    res, ops = [], []\n",
    "    for t in tokens:\n",
    "        if t.lstrip('-').isdigit():\n",
    "            res.append(t)\n",
    "        elif not ops:\n",
    "            ops.append(t)\n",
    "        else:\n",
    "            res.append(ops.pop())\n",
    "            ops.append(t)\n",
    "    if ops:\n",
    "        res.extend(ops)\n",
    "    return res\n",
    "\n",
    "# 2 + 3 * 4 - 5\n",
    "tokens = ['2', '+', '3', '*', '4', '-', '5']\n",
    "toRPN(tokens)"
   ]
  },
  {
   "cell_type": "code",
   "execution_count": null,
   "metadata": {},
   "outputs": [],
   "source": [
    "def toRPN_w_priority(tokens: list) -> list:\n",
    "    priority = {'*': 2, '/': 2, '-': 1, '+': 1}\n",
    "    res, ops = [], []\n",
    "    for t in tokens:\n",
    "        if t.lstrip('-').isdigit():\n",
    "            res.append(t)\n",
    "        else:\n",
    "            while ops and priority[ops[-1]] >= priority[t]:\n",
    "                res.append(ops.pop())\n",
    "            ops.append(t)\n",
    "    if ops:\n",
    "        res.extend(ops)\n",
    "    return res\n",
    "\n",
    "tokens = ['2', '+', '3', '*', '4', '-', '5']\n",
    "toRPN_w_priority(tokens)"
   ]
  },
  {
   "cell_type": "markdown",
   "metadata": {},
   "source": [
    "### 4. Голодные студенты в столовой"
   ]
  },
  {
   "cell_type": "markdown",
   "metadata": {},
   "source": [
    "```python\n",
    "students = [1,1,0,0]\n",
    "sandwiches = [0,1,0,1]\n",
    "# 0\n",
    "\n",
    "students = [1,1,1,0,0,1]\n",
    "sandwiches = [1,0,0,0,1,1]\n",
    "# 3\n",
    "```"
   ]
  },
  {
   "cell_type": "code",
   "execution_count": 50,
   "metadata": {},
   "outputs": [
    {
     "data": {
      "text/plain": [
       "0"
      ]
     },
     "execution_count": 50,
     "metadata": {},
     "output_type": "execute_result"
    }
   ],
   "source": [
    "from collections import deque\n",
    "\n",
    "def hungry_students(students: list, sandwiches: list) -> int:\n",
    "    q = deque(students)\n",
    "    while q and sandwiches[0] in q:\n",
    "        if q[0] == sandwiches[0]:\n",
    "            q.popleft()\n",
    "            sandwiches.pop(0)\n",
    "        else:\n",
    "            q.append(q.popleft())\n",
    "    return len(q)\n",
    "\n",
    "students = [1, 1, 0, 0]\n",
    "sandwiches = [0, 1, 0, 1]\n",
    "hungry_students(students, sandwiches)"
   ]
  }
 ],
 "metadata": {
  "kernelspec": {
   "display_name": "Python 3",
   "language": "python",
   "name": "python3"
  },
  "language_info": {
   "codemirror_mode": {
    "name": "ipython",
    "version": 3
   },
   "file_extension": ".py",
   "mimetype": "text/x-python",
   "name": "python",
   "nbconvert_exporter": "python",
   "pygments_lexer": "ipython3",
   "version": "3.9.6"
  }
 },
 "nbformat": 4,
 "nbformat_minor": 2
}
