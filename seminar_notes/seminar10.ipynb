{
 "cells": [
  {
   "cell_type": "markdown",
   "metadata": {},
   "source": [
    "# Семинар 10"
   ]
  },
  {
   "cell_type": "markdown",
   "metadata": {},
   "source": [
    "## Бинарные деревья поиска"
   ]
  },
  {
   "cell_type": "markdown",
   "metadata": {},
   "source": [
    "- Левое и правое поддеревья являются двоичными деревьями поиска;\n",
    "- У всех узлов левого поддерева произвольного узла X значения узлов меньше либо равны, нежели значение самого узла X;\n",
    "- У всех узлов правого поддерева произвольного узла X значения узлов больше, нежели значение самого узла X."
   ]
  },
  {
   "cell_type": "markdown",
   "metadata": {},
   "source": [
    "## Самобалансирующиеся деревья поиска"
   ]
  },
  {
   "cell_type": "markdown",
   "metadata": {},
   "source": [
    "### АВЛ-дерево (Адельсон-Вельский и Ландис)\n"
   ]
  },
  {
   "cell_type": "markdown",
   "metadata": {},
   "source": [
    "Самобалансировка происходит с листьев-потомков к корню"
   ]
  },
  {
   "cell_type": "markdown",
   "metadata": {},
   "source": [
    "|![](assets/AVL_LR.gif)|![](assets/AVL_LL.gif)|![](assets/AVL_BR.gif)|![](assets/AVL_BL.gif)|\n",
    "|:---:|:---:|:---:|:---:|\n",
    "|*Малое левое  вращение* <br> $h_L - h_b = 2$, $h_C \\leq h_R$|*Малое правое вращение* <br> $h_R - h_b = 2$, $h_C \\leq h_L$|*Большое левое вращение* <br> $h_L - h_b = 2$, $h_c > h_R$|*Большое правое вращение* <br> $h_R - h_b = 2$, $h_c > h_L$|\n",
    "\n",
    "\n",
    "\n"
   ]
  },
  {
   "cell_type": "markdown",
   "metadata": {},
   "source": [
    "### Красное-черное дерево"
   ]
  },
  {
   "cell_type": "markdown",
   "metadata": {},
   "source": [
    "<div style=\"text-align: center\">\n",
    "<img src=\"assets/red-black.png\" width=\"600\" height=\"300\" align=\"center\"/>\n",
    "</div>\n"
   ]
  },
  {
   "cell_type": "markdown",
   "metadata": {},
   "source": [
    "- Узел может быть либо красным, либо чёрным и имеет двух потомков;\n",
    "- Корень — как правило чёрный (но это не играет особой роли);\n",
    "- Все листья, не содержащие данных — чёрные.\n",
    "- Оба потомка каждого красного узла — чёрные.\n",
    "- Любой простой путь от узла-предка до листового узла-потомка содержит одинаковое число чёрных узлов."
   ]
  },
  {
   "cell_type": "markdown",
   "metadata": {},
   "source": [
    "Балансировка красного-черного дерева очень схожим образом, но помимо поворотов добавляется перекрашивание узлов."
   ]
  },
  {
   "cell_type": "code",
   "execution_count": 2,
   "metadata": {},
   "outputs": [],
   "source": [
    "class TreeNode(object):\n",
    "    def __init__(self, val=0, left=None, right=None):\n",
    "        self.val = val\n",
    "        self.left = left\n",
    "        self.right = right"
   ]
  },
  {
   "cell_type": "code",
   "execution_count": 3,
   "metadata": {},
   "outputs": [],
   "source": [
    "leftChild1 = TreeNode(val=2)\n",
    "rightChild1 = TreeNode(val=3)\n",
    "leftParent = TreeNode(val=1, left=leftChild1, right=rightChild1)\n",
    "leftChild2 = TreeNode(val=4)\n",
    "rightChild2 = TreeNode(val=5)\n",
    "rightParent = TreeNode(val=6, left=leftChild2, right=rightChild2)\n",
    "root = TreeNode(val=7, left=leftParent, right=rightParent)"
   ]
  },
  {
   "cell_type": "markdown",
   "metadata": {},
   "source": [
    "## Обход в глубину"
   ]
  },
  {
   "cell_type": "code",
   "execution_count": 4,
   "metadata": {},
   "outputs": [
    {
     "name": "stdout",
     "output_type": "stream",
     "text": [
      "7 1 2 3 6 4 5 "
     ]
    }
   ],
   "source": [
    "def dfs(root: TreeNode) -> None:\n",
    "    if not root:\n",
    "        return\n",
    "    \n",
    "    print(root.val, end=' ')\n",
    "    dfs(root.left)\n",
    "    dfs(root.right)\n",
    "\n",
    "dfs(root)"
   ]
  },
  {
   "cell_type": "markdown",
   "metadata": {},
   "source": [
    "## Обход в ширину"
   ]
  },
  {
   "cell_type": "code",
   "execution_count": 5,
   "metadata": {},
   "outputs": [
    {
     "name": "stdout",
     "output_type": "stream",
     "text": [
      "7 1 6 2 3 4 5 "
     ]
    }
   ],
   "source": [
    "def bfs(root: TreeNode) -> None:\n",
    "    if not root:\n",
    "        return\n",
    "    \n",
    "    queue = []\n",
    "    queue.append(root)\n",
    "\n",
    "    while len(queue) > 0:\n",
    "        print(queue[0].val, end=' ')\n",
    "        node = queue.pop(0)\n",
    "\n",
    "        if node.left:\n",
    "            queue.append(node.left)\n",
    "        if node.right:\n",
    "            queue.append(node.right)\n",
    "\n",
    "bfs(root)"
   ]
  },
  {
   "cell_type": "markdown",
   "metadata": {},
   "source": [
    "## Задачи "
   ]
  },
  {
   "cell_type": "markdown",
   "metadata": {},
   "source": [
    "### Сумма левых листьев"
   ]
  },
  {
   "cell_type": "markdown",
   "metadata": {},
   "source": [
    "![](assets/leftsum-tree.jpg)\n",
    "\n",
    "Input: root = [3,9,20,null,null,15,7]\n",
    "\n",
    "Output: 24"
   ]
  },
  {
   "cell_type": "code",
   "execution_count": 10,
   "metadata": {},
   "outputs": [
    {
     "data": {
      "text/plain": [
       "6"
      ]
     },
     "execution_count": 10,
     "metadata": {},
     "output_type": "execute_result"
    }
   ],
   "source": [
    "class Solution(object):\n",
    "    def __init__(self, root: TreeNode) -> None:\n",
    "        self.s = 0\n",
    "        self.sum_left_leaves(root, 0)\n",
    "    \n",
    "    def sum_left_leaves(self, root: TreeNode, flag) -> None:\n",
    "        if not root:\n",
    "            return\n",
    "    \n",
    "        if not root.left and not root.right and flag == 1:\n",
    "            self.s += root.val\n",
    "\n",
    "        self.sum_left_leaves(root.left, 1)\n",
    "        self.sum_left_leaves(root.right, 0)\n",
    "\n",
    "sol = Solution(root)\n",
    "sol.s"
   ]
  },
  {
   "cell_type": "code",
   "execution_count": 14,
   "metadata": {},
   "outputs": [
    {
     "data": {
      "text/plain": [
       "6"
      ]
     },
     "execution_count": 14,
     "metadata": {},
     "output_type": "execute_result"
    }
   ],
   "source": [
    "s = 0\n",
    "def sum_left_leaves(root: TreeNode, flag=False) -> None:\n",
    "    global s\n",
    "    if not root:\n",
    "        return\n",
    "    \n",
    "    if not root.left and not root.right and flag:\n",
    "        s += root.val\n",
    "\n",
    "    sum_left_leaves(root.left, True)\n",
    "    sum_left_leaves(root.right, False)\n",
    "\n",
    "sum_left_leaves(root)\n",
    "s"
   ]
  },
  {
   "cell_type": "markdown",
   "metadata": {},
   "source": [
    "### Суммы от корня до листьев"
   ]
  },
  {
   "cell_type": "markdown",
   "metadata": {},
   "source": [
    "![](assets/num1tree.jpg)\n",
    "\n",
    "Input: root = [1,2,3]\n",
    "\n",
    "Output: 25\n",
    "\n",
    "Explanation:\n",
    "\n",
    "The root-to-leaf path 1->2 represents the number 12.\n",
    "\n",
    "The root-to-leaf path 1->3 represents the number 13.\n",
    "\n",
    "Therefore, sum = 12 + 13 = 25."
   ]
  },
  {
   "cell_type": "code",
   "execution_count": 7,
   "metadata": {},
   "outputs": [
    {
     "data": {
      "text/plain": [
       "2954"
      ]
     },
     "execution_count": 7,
     "metadata": {},
     "output_type": "execute_result"
    }
   ],
   "source": [
    "s = 0\n",
    "def sum_numbers(root: TreeNode, string='') -> None:\n",
    "    global s\n",
    "    if not root:\n",
    "        return\n",
    "            \n",
    "    if not root.left and not root.right:\n",
    "        string += str(root.val)\n",
    "        s += int(string)\n",
    "        return\n",
    "        \n",
    "    string += str(root.val)\n",
    "\n",
    "    sum_numbers(root.left, string)\n",
    "    sum_numbers(root.right, string)\n",
    "\n",
    "sum_numbers(root)\n",
    "s"
   ]
  },
  {
   "cell_type": "markdown",
   "metadata": {},
   "source": [
    "Доп. задачи для закрепления:\n",
    "- [Symmetric Tree](https://leetcode.com/problems/symmetric-tree)\n",
    "- [Range Sum of BST](https://leetcode.com/problems/range-sum-of-bst)\n",
    "- [Validate Binary Search Tree](https://leetcode.com/problems/validate-binary-search-tree)\n",
    "- [Add One Row to Tree](https://leetcode.com/problems/add-one-row-to-tree)\n",
    "- [Smallest String Starting From Leaf](https://leetcode.com/problems/smallest-string-starting-from-leaf)"
   ]
  }
 ],
 "metadata": {
  "kernelspec": {
   "display_name": "Python 3",
   "language": "python",
   "name": "python3"
  },
  "language_info": {
   "codemirror_mode": {
    "name": "ipython",
    "version": 3
   },
   "file_extension": ".py",
   "mimetype": "text/x-python",
   "name": "python",
   "nbconvert_exporter": "python",
   "pygments_lexer": "ipython3",
   "version": "3.9.6"
  }
 },
 "nbformat": 4,
 "nbformat_minor": 2
}
