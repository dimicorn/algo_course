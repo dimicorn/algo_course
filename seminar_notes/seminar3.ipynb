{
 "cells": [
  {
   "cell_type": "markdown",
   "metadata": {},
   "source": [
    "# Семинар 3\n",
    "## 1. Разбор [контеста](https://vjudge.net/contest/611056)\n",
    "\n",
    "*Пароль: Y5lSnYU5Oaa4*"
   ]
  },
  {
   "cell_type": "code",
   "execution_count": 115,
   "metadata": {},
   "outputs": [
    {
     "data": {
      "text/plain": [
       "[5, 4, 3, 2, 1]"
      ]
     },
     "execution_count": 115,
     "metadata": {},
     "output_type": "execute_result"
    }
   ],
   "source": [
    "def reverse_array(arr: list) -> list:\n",
    "    # return arr[::-1]\n",
    "    l, r = 0, len(arr) - 1\n",
    "    for _ in range(len(arr) // 2):\n",
    "        arr[l], arr[r] = arr[r], arr[l]\n",
    "        l += 1\n",
    "        r -= 1\n",
    "    return arr\n",
    "    \n",
    "arr = list(range(1, 6))\n",
    "reverse_array(arr)"
   ]
  },
  {
   "cell_type": "code",
   "execution_count": 116,
   "metadata": {},
   "outputs": [
    {
     "data": {
      "text/plain": [
       "[3, 4, 5, 1, 2]"
      ]
     },
     "execution_count": 116,
     "metadata": {},
     "output_type": "execute_result"
    }
   ],
   "source": [
    "def cyclic_shift(arr: list, d: int) -> list:\n",
    "    # return arr[d:] + arr[:d]\n",
    "    n = len(arr)\n",
    "    buf = [0] * n\n",
    "    ind = 0\n",
    "    for i in range(d, n):\n",
    "        buf[ind] = arr[i]\n",
    "        ind += 1\n",
    "    \n",
    "    for i in range(d):\n",
    "        buf[ind] = arr[i]\n",
    "        ind += 1\n",
    "    return buf\n",
    "\n",
    "arr = list(range(1, 6))\n",
    "cyclic_shift(arr, 2)"
   ]
  },
  {
   "cell_type": "code",
   "execution_count": 118,
   "metadata": {},
   "outputs": [
    {
     "data": {
      "text/plain": [
       "4"
      ]
     },
     "execution_count": 118,
     "metadata": {},
     "output_type": "execute_result"
    }
   ],
   "source": [
    "def missing_number(n: int, arr: list) -> int:\n",
    "    s = n * (n + 1) // 2\n",
    "    for num in arr:\n",
    "        s -= num\n",
    "    return s\n",
    "\n",
    "missing_number(5, [1, 2, 3, 5])"
   ]
  },
  {
   "cell_type": "code",
   "execution_count": 122,
   "metadata": {},
   "outputs": [
    {
     "name": "stdout",
     "output_type": "stream",
     "text": [
      "1 2 3\n"
     ]
    }
   ],
   "source": [
    "def remove_duplicates(arr: list) -> list:\n",
    "    unique = 1\n",
    "    n = len(arr)\n",
    "    for i in range(1, n):\n",
    "        if arr[i] != arr[i-1]:\n",
    "            arr[unique] = arr[i]\n",
    "            unique += 1\n",
    "    return arr[:unique]\n",
    "\n",
    "n = int(input())\n",
    "arr = list(map(int, input().split()))\n",
    "print(*remove_duplicates(arr))"
   ]
  },
  {
   "cell_type": "code",
   "execution_count": 121,
   "metadata": {},
   "outputs": [
    {
     "data": {
      "text/plain": [
       "'YES'"
      ]
     },
     "execution_count": 121,
     "metadata": {},
     "output_type": "execute_result"
    }
   ],
   "source": [
    "def check_if_anagram(string1: str, string2: str) -> str:\n",
    "    buf1, buf2 = [0] * 26, [0] * 26\n",
    "    for char in string1:\n",
    "        buf1[ord(char) - ord('a')] += 1\n",
    "    \n",
    "    for char in string2:\n",
    "        buf2[ord(char) - ord('a')] += 1\n",
    "    res = 'YES' if buf1 == buf2 else 'NO'\n",
    "    return res\n",
    "\n",
    "check_if_anagram('aaabc', 'cbaaa')"
   ]
  },
  {
   "cell_type": "markdown",
   "metadata": {},
   "source": [
    "\n",
    "## 2. Метод скользящего окна"
   ]
  },
  {
   "cell_type": "markdown",
   "metadata": {},
   "source": [
    "### Найти все анаграммы"
   ]
  },
  {
   "cell_type": "code",
   "execution_count": 135,
   "metadata": {},
   "outputs": [
    {
     "data": {
      "text/plain": [
       "[0, 8]"
      ]
     },
     "execution_count": 135,
     "metadata": {},
     "output_type": "execute_result"
    }
   ],
   "source": [
    "def findAnagrams(s: str, p: str) -> list:\n",
    "    ans = []\n",
    "    if len(s) < len(p):\n",
    "        return ans\n",
    "    \n",
    "    freq, window = [0] * 26, [0] * 26\n",
    "    for i in p:\n",
    "        freq[ord(i) - ord('a')] += 1\n",
    "    \n",
    "    for i in range(len(p)):\n",
    "        window[ord(s[i]) - ord('a')] += 1\n",
    "    \n",
    "    if window == freq:\n",
    "        ans.append(0)\n",
    "    \n",
    "    for i in range(len(p), len(s)):\n",
    "        window[ord(s[i-len(p)]) - ord('a')] -= 1\n",
    "        window[ord(s[i]) - ord('a')] += 1\n",
    "        if window == freq:\n",
    "            ans.append(i - len(p) + 1)\n",
    "    return ans\n",
    "\n",
    "string1 = 'adeabcbddeaa'\n",
    "string2 = 'aade'\n",
    "findAnagrams(string1, string2)"
   ]
  },
  {
   "cell_type": "markdown",
   "metadata": {},
   "source": [
    "### Наибольшее число подряд идущих единиц"
   ]
  },
  {
   "cell_type": "code",
   "execution_count": 147,
   "metadata": {},
   "outputs": [
    {
     "data": {
      "text/plain": [
       "7"
      ]
     },
     "execution_count": 147,
     "metadata": {},
     "output_type": "execute_result"
    }
   ],
   "source": [
    "def longestOnes(nums: list, k: int) -> int:\n",
    "    l = r = 0\n",
    "    n = len(nums)\n",
    "    for r in range(n):\n",
    "        if nums[r] == 0:\n",
    "            k -= 1\n",
    "        if k < 0:\n",
    "            if nums[l] == 0:\n",
    "                k += 1\n",
    "            l += 1\n",
    "    return r - l + 1\n",
    "\n",
    "nums = [0,0,0,0,0,0,1,1,1,1,0,0,0,0,0,0,0,0]\n",
    "k = 3\n",
    "longestOnes(nums, k)"
   ]
  }
 ],
 "metadata": {
  "kernelspec": {
   "display_name": "Python 3",
   "language": "python",
   "name": "python3"
  },
  "language_info": {
   "codemirror_mode": {
    "name": "ipython",
    "version": 3
   },
   "file_extension": ".py",
   "mimetype": "text/x-python",
   "name": "python",
   "nbconvert_exporter": "python",
   "pygments_lexer": "ipython3",
   "version": "3.9.6"
  }
 },
 "nbformat": 4,
 "nbformat_minor": 2
}
