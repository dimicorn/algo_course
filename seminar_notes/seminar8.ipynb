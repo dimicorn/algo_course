{
 "cells": [
  {
   "cell_type": "markdown",
   "metadata": {},
   "source": [
    "# Семинар 8"
   ]
  },
  {
   "cell_type": "markdown",
   "metadata": {},
   "source": [
    "## 1. Динамическое программирование (продолжение)"
   ]
  },
  {
   "cell_type": "markdown",
   "metadata": {},
   "source": [
    "### 1.1. Рюкзак 0-1 (Рекурсия)"
   ]
  },
  {
   "cell_type": "code",
   "execution_count": 20,
   "metadata": {},
   "outputs": [
    {
     "data": {
      "text/plain": [
       "12"
      ]
     },
     "execution_count": 20,
     "metadata": {},
     "output_type": "execute_result"
    }
   ],
   "source": [
    "def knapsack_recursive(W: int, arr: list, n: int) -> int:\n",
    "    if n == 0 or W == 0:\n",
    "        return 0\n",
    "    \n",
    "    if arr[n-1][1] > W:\n",
    "        return knapsack_recursive(W, arr, n-1)\n",
    "    else:\n",
    "        return max(\n",
    "            arr[n-1][0] + knapsack_recursive(W - arr[n-1][1], arr, n-1),\n",
    "            knapsack_recursive(W, arr, n-1)\n",
    "        )\n",
    "\n",
    "arr = [(7, 1), (3, 3), (1, 2), (2, 6), (2, 5)] # выдает правильный ответ\n",
    "x = 10\n",
    "knapsack_recursive(x, arr, len(arr))"
   ]
  },
  {
   "cell_type": "markdown",
   "metadata": {},
   "source": [
    "### 1.2. Рюкзак 0-1 (Рекурсия с мемоизацией)"
   ]
  },
  {
   "cell_type": "code",
   "execution_count": 23,
   "metadata": {},
   "outputs": [
    {
     "data": {
      "text/plain": [
       "12"
      ]
     },
     "execution_count": 23,
     "metadata": {},
     "output_type": "execute_result"
    }
   ],
   "source": [
    "def knapsack_memo(W: int, arr: list, n: int, t: list) -> int:\n",
    "    if n == 0 or W == 0:\n",
    "        return 0\n",
    "    \n",
    "    if t[n][W] != -1:\n",
    "        return t[n][W]\n",
    "    \n",
    "    if arr[n-1][1] <= W:\n",
    "        t[n][W] = max(\n",
    "            arr[n-1][0] + knapsack_memo(\n",
    "                W-arr[n-1][1], arr, n-1, t),\n",
    "            knapsack_memo(W, arr, n-1, t)\n",
    "        )\n",
    "        return t[n][W]\n",
    "    elif arr[n-1][1] > W:\n",
    "        t[n][W] = knapsack_memo(W, arr, n-1, t)\n",
    "        return t[n][W]\n",
    "\n",
    "arr = [(7, 1), (3, 3), (1, 2), (2, 6), (2, 5)]\n",
    "x = 10\n",
    "n = 5\n",
    "t = [[-1 for i in range(x + 1)] for j in range(n + 1)]\n",
    "knapsack_memo(x, arr, len(arr), t)"
   ]
  },
  {
   "cell_type": "markdown",
   "metadata": {},
   "source": [
    "### 1.3. Рюкзак 0-1, (Динамически)"
   ]
  },
  {
   "cell_type": "code",
   "execution_count": 26,
   "metadata": {},
   "outputs": [
    {
     "data": {
      "text/plain": [
       "12"
      ]
     },
     "execution_count": 26,
     "metadata": {},
     "output_type": "execute_result"
    }
   ],
   "source": [
    "def knapsack_dynamic(W, arr, n) -> int:\n",
    "    K = [[0 for x in range(W+1)] for x in range(n + 1)]\n",
    "    for i in range(n + 1):\n",
    "        for w in range(W + 1):\n",
    "            if i == 0 or w == 0:\n",
    "                K[i][w] = 0\n",
    "            elif arr[i-1][1] <= w:\n",
    "                K[i][w] = max(\n",
    "                    arr[i-1][0] + K[i-1][w-arr[i-1][1]],\n",
    "                    K[i-1][w]\n",
    "                )\n",
    "            else:\n",
    "                K[i][w] = K[i-1][w]\n",
    "    return K[n][W]\n",
    "\n",
    "arr = [(7, 1), (3, 3), (1, 2), (2, 6), (2, 5)]\n",
    "x = 10\n",
    "knapsack_dynamic(x, arr, len(arr))"
   ]
  },
  {
   "cell_type": "markdown",
   "metadata": {},
   "source": [
    "### 2. Наибольшая общая подпоследовательность"
   ]
  },
  {
   "cell_type": "code",
   "execution_count": 42,
   "metadata": {},
   "outputs": [
    {
     "data": {
      "text/plain": [
       "2"
      ]
     },
     "execution_count": 42,
     "metadata": {},
     "output_type": "execute_result"
    }
   ],
   "source": [
    "def lcs(s1: str, s2: str) -> int:\n",
    "    n, m = len(s1), len(s2)\n",
    "    dp = [[0 for _ in range(len(s2)+1)] for _ in range(len(s1)+1)] # можно лучше и меньше памяти\n",
    "    for ind1 in range(1, n+1):\n",
    "        for ind2 in range(1, m+1):\n",
    "            if s1[ind1-1] == s2[ind2-1]:\n",
    "                dp[ind1][ind2] = 1 + dp[ind1][ind2-1]\n",
    "            else:\n",
    "                dp[ind1][ind2] = max(dp[ind1][ind2-1], dp[ind1-1][ind2])\n",
    "    return dp[n][m]\n",
    "\n",
    "s1 = 'abcdkacd'\n",
    "s2 = 'kgafe'\n",
    "lcs(s1, s2)"
   ]
  },
  {
   "cell_type": "markdown",
   "metadata": {},
   "source": [
    "### 3. Наибольшая возрастающая подпоследовательность"
   ]
  },
  {
   "cell_type": "code",
   "execution_count": 45,
   "metadata": {},
   "outputs": [
    {
     "data": {
      "text/plain": [
       "5"
      ]
     },
     "execution_count": 45,
     "metadata": {},
     "output_type": "execute_result"
    }
   ],
   "source": [
    "def lis(arr: list) -> int:\n",
    "    n = len(arr)\n",
    "    dp = [1] * n\n",
    "    for i in range(1, n):\n",
    "        for j in range(0, i):\n",
    "            if arr[i] > arr[j] and dp[i] < dp[j] + 1:\n",
    "                dp[i] = dp[j] + 1\n",
    "    return max(dp)\n",
    "\n",
    "arr = [0, 1, 3, 5, -1, -2, 8]\n",
    "lis(arr)"
   ]
  },
  {
   "cell_type": "markdown",
   "metadata": {},
   "source": [
    "## 2. Алгоритмы на строках"
   ]
  },
  {
   "cell_type": "markdown",
   "metadata": {},
   "source": [
    "### 1. Расстояние Левенштейна\n",
    "\n",
    "Насколько односимвольных (вставка, удаление, замена) операций две строки отличаются между собой"
   ]
  },
  {
   "cell_type": "code",
   "execution_count": 64,
   "metadata": {},
   "outputs": [
    {
     "data": {
      "text/plain": [
       "4"
      ]
     },
     "execution_count": 64,
     "metadata": {},
     "output_type": "execute_result"
    }
   ],
   "source": [
    "def levenstein(s1: str, s2: str) -> int:\n",
    "    n, m = len(s1), len(s2)\n",
    "    dp = [[0 for _ in range(m+1)] for _ in range(n+1)]\n",
    "    for i in range(n+1):\n",
    "        for j in range(m+1):\n",
    "            if i == 0 and j == 0:\n",
    "                continue\n",
    "            elif j == 0 and i > 0:\n",
    "                dp[i][j] = i\n",
    "            elif i == 0 and j > 0:\n",
    "                dp[i][j] = j\n",
    "            else:\n",
    "                dp[i][j] = min(\n",
    "                    dp[i][j-1] + 1,\n",
    "                    dp[i-1][j] + 1,\n",
    "                    dp[i-1][j-1] + int(s1[i-1] != s2[j-1])\n",
    "                )\n",
    "    return dp[n][m]\n",
    "\n",
    "s2 = 'gef'\n",
    "s1 = 'abcd'\n",
    "levenstein(s2, s1)"
   ]
  },
  {
   "cell_type": "markdown",
   "metadata": {},
   "source": [
    "### 2. Наивный поиск подстроки в строке"
   ]
  },
  {
   "cell_type": "code",
   "execution_count": 69,
   "metadata": {},
   "outputs": [
    {
     "data": {
      "text/plain": [
       "3"
      ]
     },
     "execution_count": 69,
     "metadata": {},
     "output_type": "execute_result"
    }
   ],
   "source": [
    "def find_substr_naive(s: str, substr: str) -> int:\n",
    "    if len(substr) > len(s):\n",
    "        return -1\n",
    "    n = len(s)\n",
    "    for i in range(n):\n",
    "        j = i\n",
    "        while j < len(substr) and s[j] == substr[j]:\n",
    "            j += 1\n",
    "        if j == len(substr):\n",
    "            return i\n",
    "    return -1\n",
    "\n",
    "find_substr_naive('adcdef', 'def')"
   ]
  },
  {
   "cell_type": "markdown",
   "metadata": {},
   "source": [
    "### 3. Z-функция"
   ]
  },
  {
   "cell_type": "markdown",
   "metadata": {},
   "source": [
    "Z-функция от строки $s$ и позиции $i$ – длина максимального префикса подстроки, начинающейся с позиции $i$ в строке $s$, который одновременно является и префиксом всей строки $s$.\n",
    "\n",
    "$Z(s, i) = \\max k \\ | \\ s[i \\dots i+k] = s[0 \\dots k]$"
   ]
  },
  {
   "cell_type": "code",
   "execution_count": 70,
   "metadata": {},
   "outputs": [
    {
     "data": {
      "text/plain": [
       "[0, 0, 1, 0, 3, 0, 1]"
      ]
     },
     "execution_count": 70,
     "metadata": {},
     "output_type": "execute_result"
    }
   ],
   "source": [
    "def z_function_naive(s: str) -> list:\n",
    "    n = len(s)\n",
    "    zf = [0] * n\n",
    "    for i in range(1, n):\n",
    "        while i + zf[i] < n and s[zf[i]] == s[i + zf[i]]:\n",
    "            zf[i] += 1\n",
    "    return zf\n",
    "\n",
    "s = 'abacaba'\n",
    "z_function_naive(s)"
   ]
  },
  {
   "cell_type": "code",
   "execution_count": 74,
   "metadata": {},
   "outputs": [
    {
     "data": {
      "text/plain": [
       "[0, 0, 1, 0, 3, 0, 1]"
      ]
     },
     "execution_count": 74,
     "metadata": {},
     "output_type": "execute_result"
    }
   ],
   "source": [
    "def z_function(s: str):\n",
    "    n = len(s)\n",
    "    zf = [0] * n\n",
    "    left, right = 0, 0\n",
    "    for i in range(1, n):\n",
    "        zf[i] = max(0, min(right - i, zf[i - left]))\n",
    "        while i + zf[i] < n and s[zf[i]] == s[i + zf[i]]:\n",
    "            zf[i] += 1\n",
    "        if i + zf[i] > right:\n",
    "            left = i\n",
    "            right = i + zf[i]\n",
    "        # print(left, right)\n",
    "        # print(zf)\n",
    "    return zf\n",
    "\n",
    "s = 'abacaba'\n",
    "z_function(s)"
   ]
  },
  {
   "cell_type": "code",
   "execution_count": 81,
   "metadata": {},
   "outputs": [
    {
     "data": {
      "text/plain": [
       "3"
      ]
     },
     "execution_count": 81,
     "metadata": {},
     "output_type": "execute_result"
    }
   ],
   "source": [
    "def find_substr(s, substr):\n",
    "    m, n = len(substr), len(s)\n",
    "    zf = z_function(f'{substr}#{s}')\n",
    "    for i in range(m + 1, n + 2):\n",
    "        if zf[i] == m:\n",
    "            return i - len(substr) - 1\n",
    "\n",
    "find_substr('abacaba', 'caba')"
   ]
  },
  {
   "cell_type": "markdown",
   "metadata": {},
   "source": [
    "### 4. Префикс-функция"
   ]
  },
  {
   "cell_type": "markdown",
   "metadata": {},
   "source": [
    "Префикс-функция от строки $s$ в позиции $i$:\n",
    "\n",
    "$\\pi (s, i) = \\max_{k=\\overline{1, i}} {k: s[0 \\dots k-1 ] = s[i - k + 1 \\dots i]}$\n"
   ]
  },
  {
   "cell_type": "code",
   "execution_count": 48,
   "metadata": {},
   "outputs": [
    {
     "data": {
      "text/plain": [
       "[0, 0, 0, 1, 2, 3, 0]"
      ]
     },
     "execution_count": 48,
     "metadata": {},
     "output_type": "execute_result"
    }
   ],
   "source": [
    "def prefix_function_naive(s: str) -> list:\n",
    "    n = len(s)\n",
    "    p = [0] * n\n",
    "    for i in range(n):\n",
    "        for k in range(i):\n",
    "            if s[:k] == s[i - k + 1: i + 1]:\n",
    "                p[i] = k\n",
    "    return p\n",
    "\n",
    "s = 'abcabcd'\n",
    "prefix_function_naive(s)"
   ]
  },
  {
   "cell_type": "code",
   "execution_count": 65,
   "metadata": {},
   "outputs": [],
   "source": [
    "def prefix_function(s: str) -> list:\n",
    "    p = [0] * len(s)\n",
    "    for i in range(1, len(s)):\n",
    "        k = p[i - 1]\n",
    "        while k > 0 and s[i] != s[k]:\n",
    "            k = p[k - 1]\n",
    "        if s[i] == s[k]:\n",
    "            k += 1\n",
    "        p[i] = k\n",
    "    return p"
   ]
  },
  {
   "cell_type": "code",
   "execution_count": 67,
   "metadata": {},
   "outputs": [
    {
     "data": {
      "text/plain": [
       "[0, 4, 8]"
      ]
     },
     "execution_count": 67,
     "metadata": {},
     "output_type": "execute_result"
    }
   ],
   "source": [
    "def kmp(P: str, T: str) -> list:\n",
    "    pl, tl = len(P), len(T)\n",
    "    p = prefix_function_naive(f'{P}#{T}')\n",
    "    count = 0\n",
    "    ans = []\n",
    "    for i in range(tl):\n",
    "        if p[pl + i + 1] == pl:\n",
    "            ans.append(i - pl + 1)\n",
    "            count += 1\n",
    "    return ans\n",
    "kmp('caba', 'cabacabacaba')"
   ]
  },
  {
   "cell_type": "markdown",
   "metadata": {},
   "source": [
    "Также другие алгоритмы: Нидльмана-Вунша (динамическое программирование), Рабина-Карпа (хэширование), Бойера-Мура, суффиксные массив и дерево"
   ]
  }
 ],
 "metadata": {
  "kernelspec": {
   "display_name": "Python 3",
   "language": "python",
   "name": "python3"
  },
  "language_info": {
   "codemirror_mode": {
    "name": "ipython",
    "version": 3
   },
   "file_extension": ".py",
   "mimetype": "text/x-python",
   "name": "python",
   "nbconvert_exporter": "python",
   "pygments_lexer": "ipython3",
   "version": "3.9.6"
  }
 },
 "nbformat": 4,
 "nbformat_minor": 2
}
